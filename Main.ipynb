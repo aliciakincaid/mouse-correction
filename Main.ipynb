{
 "cells": [
  {
   "cell_type": "markdown",
   "metadata": {},
   "source": [
    "## Overview"
   ]
  },
  {
   "cell_type": "markdown",
   "metadata": {},
   "source": [
    "This project will use PyAutoGUI to take in data from user mouse movement, the average direction will be calculated, then the projected mouse movement will be used to control the mouse for the user."
   ]
  },
  {
   "cell_type": "markdown",
   "metadata": {},
   "source": [
    "#### Libraries"
   ]
  },
  {
   "cell_type": "code",
   "execution_count": null,
   "metadata": {},
   "outputs": [],
   "source": [
    "#only run this on your first time using the code...\n",
    "#NOTE: They need to be installed locally on your computer\n",
    "#pip install pyautogui\n",
    "#pip install keyboard"
   ]
  },
  {
   "cell_type": "code",
   "execution_count": 1,
   "metadata": {},
   "outputs": [],
   "source": [
    "import matplotlib.pyplot as plt\n",
    "import pandas as pd\n",
    "import numpy as np\n",
    "\n",
    "import pyautogui\n",
    "import time\n",
    "import keyboard\n",
    "import multiprocessing\n",
    "import csv\n",
    "import tkinter\n",
    "from tkinter import *"
   ]
  },
  {
   "cell_type": "markdown",
   "metadata": {},
   "source": [
    "### Overarching Variables"
   ]
  },
  {
   "cell_type": "code",
   "execution_count": 2,
   "metadata": {},
   "outputs": [],
   "source": [
    "xCoordinate, yCoordinate = pyautogui.size()\n",
    "\n",
    "screenHalfWidth = xCoordinate / 2\n",
    "screenHalfHeight = yCoordinate / 2\n",
    "\n",
    "windowHalfWidth = 200\n",
    "windowHalfHeight = 125\n",
    "xLocation = screenHalfWidth - windowHalfWidth\n",
    "yLocation = screenHalfHeight - windowHalfHeight\n"
   ]
  },
  {
   "cell_type": "markdown",
   "metadata": {},
   "source": [
    "### Define Cursor Movement Functions"
   ]
  },
  {
   "cell_type": "code",
   "execution_count": 3,
   "metadata": {},
   "outputs": [],
   "source": [
    "def bottomLeft():\n",
    "    moveX = 20\n",
    "    moveY = yCoordinate - 20\n",
    "    pyautogui.moveTo(moveX, moveY)\n",
    "    \n",
    "def bottomRight():\n",
    "    moveX = xCoordinate - 20\n",
    "    moveY = yCoordinate - 20\n",
    "    pyautogui.moveTo(moveX, moveY)\n",
    "    \n",
    "def upperLeft():\n",
    "    moveX = 20\n",
    "    moveY = 20\n",
    "    pyautogui.moveTo(moveX,moveY)\n",
    "    \n",
    "def upperRight():\n",
    "    moveX = xCoordinate - 20\n",
    "    moveY = 20\n",
    "    pyautogui.moveTo(moveX, moveY)\n",
    "    \n",
    "def middleLeft():\n",
    "    moveX = 20\n",
    "    moveY = yCoordinate / 2\n",
    "    pyautogui.moveTo(moveX, moveY)\n",
    "\n",
    "def middleRight():\n",
    "    moveX = xCoordinate - 20\n",
    "    moveY = yCoordinate / 2\n",
    "    pyautogui.moveTo(moveX, moveY)\n",
    "\n",
    "def middleBottom():\n",
    "    moveX = xCoordinate / 2\n",
    "    moveY = yCoordinate - 20\n",
    "    pyautogui.moveTo(moveX, moveY)\n",
    "    \n",
    "def middleTop():\n",
    "    moveX = xCoordinate / 2\n",
    "    moveY = 20\n",
    "    pyautogui.moveTo(moveX, moveY)\n"
   ]
  },
  {
   "cell_type": "markdown",
   "metadata": {},
   "source": [
    "### Pop-up Box Function"
   ]
  },
  {
   "cell_type": "code",
   "execution_count": 4,
   "metadata": {},
   "outputs": [],
   "source": [
    "def createPopUp(message):    \n",
    "    #Define window & text\n",
    "    window = Tk()\n",
    "    window.title(\"Cursor Movement Data Collection\")\n",
    "    window.configure(background=\"#EEEEEE\")\n",
    "    lbl = Label(window, text=message, bg=\"#EEEEEE\", wraplength=500, justify=CENTER, fg=\"#555555\", font=\"Times 30\").pack()\n",
    "    \n",
    "    #Define button\n",
    "    btn = Button(window, text=\"Click Me\", command=window.destroy,\\\n",
    "                 bg=\"red\", font=\"Times 50 bold\").pack()\n",
    "    \n",
    "    #Set dimensions and location\n",
    "    window.geometry(\"%dx%d+%d+%d\" % (700, 250, xLocation, yLocation))\n",
    "    \n",
    "    #declare thread that tracks cursor movement\n",
    "    stopCondition = multiprocessing.Value('i', 0)\n",
    "    p1 = multiprocessing.Process(target=trackCursor, args=(stopCondition, ))\n",
    "    p1.start()\n",
    "    \n",
    "    window.mainloop()\n",
    "    \n",
    "    stopCondition.value = 1\n",
    "    \n",
    "    p1.join()"
   ]
  },
  {
   "cell_type": "markdown",
   "metadata": {},
   "source": [
    "### Tracking Cursor Movement"
   ]
  },
  {
   "cell_type": "code",
   "execution_count": 5,
   "metadata": {},
   "outputs": [],
   "source": [
    "def trackCursor(stopCondition):\n",
    "    xCoordinateList = []\n",
    "    yCoordinateList = []\n",
    "    while(stopCondition.value is not 1):\n",
    "        currentMouseX, currentMouseY = pyautogui.position() # Returns two integers, the x and y of the mouse cursor's current position.\n",
    "        xCoordinateList.append(currentMouseX)\n",
    "        yCoordinateList.append(currentMouseY)\n",
    "        time.sleep(0.2)\n",
    "        \n",
    "    global fileName\n",
    "    \n",
    "    for coordinate in xCoordinateList:\n",
    "        print(coordinate)\n",
    "        \n",
    "    print(\"\\n\")\n",
    "    \n",
    "    for coordinate in yCoordinateList:\n",
    "        print(coordinate)\n",
    "    "
   ]
  },
  {
   "cell_type": "markdown",
   "metadata": {},
   "source": [
    "### Storing Movement in CSV"
   ]
  },
  {
   "cell_type": "code",
   "execution_count": 6,
   "metadata": {},
   "outputs": [],
   "source": [
    "def storeData(xCoordinateData, yCoordinateData):\n",
    "    fuck = True"
   ]
  },
  {
   "cell_type": "markdown",
   "metadata": {},
   "source": [
    "### Individual Calibration Functions"
   ]
  },
  {
   "cell_type": "code",
   "execution_count": 7,
   "metadata": {},
   "outputs": [],
   "source": [
    "def runCalibrationBL(iterations):\n",
    "    global fileName\n",
    "    fileName = \"bottomLeftData.csv\"\n",
    "    \n",
    "    count = 0\n",
    "    while(count < iterations):\n",
    "        bottomLeft()\n",
    "        message = \"Move cursor from bottom left corner of your screen\"\n",
    "                \n",
    "        createPopUp(message)\n",
    "        \n",
    "        count += 1\n",
    "\n",
    "def runCalibrationBR(iterations):\n",
    "    global fileName\n",
    "    fileName = \"bottomRightData.csv\"\n",
    "    \n",
    "    count = 0\n",
    "    while(count < iterations):\n",
    "        bottomRight()\n",
    "        #trackCursor()\n",
    "        message = \"Move cursor from bottom right corner of your screen\"\n",
    "        createPopUp(message)\n",
    "        \n",
    "        count += 1\n",
    "        \n",
    "def runCalibrationUL(iterations):        \n",
    "    global fileName\n",
    "    fileName = \"upperLeftData.csv\"\n",
    "    \n",
    "    count = 0\n",
    "    while(count < iterations):\n",
    "        upperLeft()\n",
    "        #trackCursor()\n",
    "        message = \"Move cursor from upper left corner of your screen\"\n",
    "        createPopUp(message)\n",
    "        \n",
    "        count += 1\n",
    "\n",
    "def runCalibrationUR(iterations):\n",
    "    global fileName\n",
    "    fileName = \"upperRightData.csv\"\n",
    "    \n",
    "    count = 0\n",
    "    while(count < iterations):\n",
    "        upperRight()\n",
    "        #trackCursor()\n",
    "        message = \"Move cursor from upper right corner of your screen\"\n",
    "        createPopUp(message)\n",
    "        \n",
    "        count += 1\n",
    "\n",
    "def runCalibrationML(iterations):\n",
    "    global fileName\n",
    "    fileName = \"middleLeftData.csv\"\n",
    "    \n",
    "    count = 0\n",
    "    while(count < iterations):\n",
    "        middleLeft()\n",
    "        #trackCursor()\n",
    "        message = \"Move cursor from the middle of the left side of your screen\"\n",
    "        createPopUp(message)\n",
    "        \n",
    "        count += 1\n",
    "\n",
    "def runCalibrationMR(iterations):\n",
    "    global fileName\n",
    "    fileName = \"middleRightData.csv\"\n",
    "    \n",
    "    count = 0\n",
    "    while(count < iterations):\n",
    "        middleRight()\n",
    "        #trackCursor()\n",
    "        message = \"Move cursor from the middle of the right side of your screen\"\n",
    "        createPopUp(message)\n",
    "        \n",
    "        count += 1\n",
    "\n",
    "def runCalibrationMT(iterations):\n",
    "    global fileName\n",
    "    fileName = \"middleTopData.csv\"\n",
    "    \n",
    "    count = 0\n",
    "    while(count < iterations):\n",
    "        middleTop()\n",
    "        #trackCursor()\n",
    "        message = \"Move cursor from the middle of the top side of your screen\"\n",
    "        createPopUp(message)\n",
    "        \n",
    "        count += 1\n",
    "\n",
    "def runCalibrationMB(iterations):\n",
    "    global fileName\n",
    "    fileName = \"middleBottomData.csv\"\n",
    "    \n",
    "    count = 0\n",
    "    while(count < iterations):\n",
    "        middleBottom()\n",
    "        #trackCursor()\n",
    "        message = \"Move cursor from the middle of the bottom side of your screen\"\n",
    "        createPopUp(message)\n",
    "        \n",
    "        count += 1"
   ]
  },
  {
   "cell_type": "markdown",
   "metadata": {},
   "source": [
    "### Collect User Mouse Data"
   ]
  },
  {
   "cell_type": "code",
   "execution_count": 8,
   "metadata": {},
   "outputs": [
    {
     "name": "stdout",
     "output_type": "stream",
     "text": [
      "20\n",
      "20\n",
      "20\n",
      "20\n",
      "20\n",
      "20\n",
      "20\n",
      "24\n",
      "178\n",
      "288\n",
      "403\n",
      "456\n",
      "505\n",
      "549\n",
      "1026\n",
      "1323\n",
      "1431\n",
      "1656\n",
      "2054\n",
      "2141\n",
      "2161\n",
      "2179\n",
      "2201\n",
      "2204\n",
      "2204\n",
      "\n",
      "\n",
      "1079\n",
      "1079\n",
      "1079\n",
      "1079\n",
      "1079\n",
      "1079\n",
      "1078\n",
      "1079\n",
      "1079\n",
      "1060\n",
      "1006\n",
      "918\n",
      "904\n",
      "897\n",
      "708\n",
      "575\n",
      "642\n",
      "743\n",
      "811\n",
      "813\n",
      "849\n",
      "899\n",
      "948\n",
      "955\n",
      "955\n"
     ]
    }
   ],
   "source": [
    "runCalibrationBL(1)"
   ]
  },
  {
   "cell_type": "code",
   "execution_count": 9,
   "metadata": {},
   "outputs": [],
   "source": [
    "runCalibrationBR(1)"
   ]
  },
  {
   "cell_type": "code",
   "execution_count": 10,
   "metadata": {},
   "outputs": [],
   "source": [
    "runCalibrationMB(1)"
   ]
  },
  {
   "cell_type": "code",
   "execution_count": 11,
   "metadata": {},
   "outputs": [],
   "source": [
    "runCalibrationUL(1)"
   ]
  },
  {
   "cell_type": "code",
   "execution_count": 12,
   "metadata": {},
   "outputs": [],
   "source": [
    "runCalibrationMT(1)"
   ]
  },
  {
   "cell_type": "code",
   "execution_count": 8,
   "metadata": {},
   "outputs": [
    {
     "name": "stdout",
     "output_type": "stream",
     "text": [
      "3820\n",
      "3820\n",
      "3820\n",
      "3820\n",
      "3820\n",
      "3812\n",
      "3656\n",
      "3288\n",
      "2863\n",
      "2549\n",
      "2448\n",
      "2380\n",
      "2369\n",
      "\n",
      "\n",
      "925\n",
      "925\n",
      "925\n",
      "925\n",
      "925\n",
      "897\n",
      "771\n",
      "801\n",
      "858\n",
      "920\n",
      "958\n",
      "984\n",
      "989\n"
     ]
    }
   ],
   "source": [
    "runCalibrationMR(1)"
   ]
  },
  {
   "cell_type": "code",
   "execution_count": null,
   "metadata": {},
   "outputs": [],
   "source": [
    "runCalibrationML(1)"
   ]
  },
  {
   "cell_type": "code",
   "execution_count": null,
   "metadata": {},
   "outputs": [],
   "source": [
    "runCalibrationUR(1)"
   ]
  },
  {
   "cell_type": "markdown",
   "metadata": {},
   "source": [
    "### Graphing"
   ]
  },
  {
   "cell_type": "code",
   "execution_count": 9,
   "metadata": {},
   "outputs": [],
   "source": [
    "bottomLeft_df = pd.read_csv('bottomLeftData.csv')"
   ]
  },
  {
   "cell_type": "code",
   "execution_count": 10,
   "metadata": {},
   "outputs": [
    {
     "ename": "KeyError",
     "evalue": "'user2X'",
     "output_type": "error",
     "traceback": [
      "\u001b[0;31m---------------------------------------------------------------------------\u001b[0m",
      "\u001b[0;31mKeyError\u001b[0m                                  Traceback (most recent call last)",
      "\u001b[0;32m~/anaconda3/lib/python3.7/site-packages/pandas/core/indexes/base.py\u001b[0m in \u001b[0;36mget_loc\u001b[0;34m(self, key, method, tolerance)\u001b[0m\n\u001b[1;32m   2656\u001b[0m             \u001b[0;32mtry\u001b[0m\u001b[0;34m:\u001b[0m\u001b[0;34m\u001b[0m\u001b[0;34m\u001b[0m\u001b[0m\n\u001b[0;32m-> 2657\u001b[0;31m                 \u001b[0;32mreturn\u001b[0m \u001b[0mself\u001b[0m\u001b[0;34m.\u001b[0m\u001b[0m_engine\u001b[0m\u001b[0;34m.\u001b[0m\u001b[0mget_loc\u001b[0m\u001b[0;34m(\u001b[0m\u001b[0mkey\u001b[0m\u001b[0;34m)\u001b[0m\u001b[0;34m\u001b[0m\u001b[0;34m\u001b[0m\u001b[0m\n\u001b[0m\u001b[1;32m   2658\u001b[0m             \u001b[0;32mexcept\u001b[0m \u001b[0mKeyError\u001b[0m\u001b[0;34m:\u001b[0m\u001b[0;34m\u001b[0m\u001b[0;34m\u001b[0m\u001b[0m\n",
      "\u001b[0;32mpandas/_libs/index.pyx\u001b[0m in \u001b[0;36mpandas._libs.index.IndexEngine.get_loc\u001b[0;34m()\u001b[0m\n",
      "\u001b[0;32mpandas/_libs/index.pyx\u001b[0m in \u001b[0;36mpandas._libs.index.IndexEngine.get_loc\u001b[0;34m()\u001b[0m\n",
      "\u001b[0;32mpandas/_libs/hashtable_class_helper.pxi\u001b[0m in \u001b[0;36mpandas._libs.hashtable.PyObjectHashTable.get_item\u001b[0;34m()\u001b[0m\n",
      "\u001b[0;32mpandas/_libs/hashtable_class_helper.pxi\u001b[0m in \u001b[0;36mpandas._libs.hashtable.PyObjectHashTable.get_item\u001b[0;34m()\u001b[0m\n",
      "\u001b[0;31mKeyError\u001b[0m: 'user2X'",
      "\nDuring handling of the above exception, another exception occurred:\n",
      "\u001b[0;31mKeyError\u001b[0m                                  Traceback (most recent call last)",
      "\u001b[0;32m<ipython-input-10-3be8a02fb83d>\u001b[0m in \u001b[0;36m<module>\u001b[0;34m\u001b[0m\n\u001b[1;32m      2\u001b[0m \u001b[0muser1Y\u001b[0m \u001b[0;34m=\u001b[0m \u001b[0mbottomLeft_df\u001b[0m\u001b[0;34m[\u001b[0m\u001b[0;34m'user1Y'\u001b[0m\u001b[0;34m]\u001b[0m\u001b[0;34m\u001b[0m\u001b[0;34m\u001b[0m\u001b[0m\n\u001b[1;32m      3\u001b[0m \u001b[0;34m\u001b[0m\u001b[0m\n\u001b[0;32m----> 4\u001b[0;31m \u001b[0muser2X\u001b[0m \u001b[0;34m=\u001b[0m \u001b[0mbottomLeft_df\u001b[0m\u001b[0;34m[\u001b[0m\u001b[0;34m'user2X'\u001b[0m\u001b[0;34m]\u001b[0m\u001b[0;34m\u001b[0m\u001b[0;34m\u001b[0m\u001b[0m\n\u001b[0m\u001b[1;32m      5\u001b[0m \u001b[0muser2Y\u001b[0m \u001b[0;34m=\u001b[0m \u001b[0mbottomLeft_df\u001b[0m\u001b[0;34m[\u001b[0m\u001b[0;34m'user2Y'\u001b[0m\u001b[0;34m]\u001b[0m\u001b[0;34m\u001b[0m\u001b[0;34m\u001b[0m\u001b[0m\n\u001b[1;32m      6\u001b[0m \u001b[0;34m\u001b[0m\u001b[0m\n",
      "\u001b[0;32m~/anaconda3/lib/python3.7/site-packages/pandas/core/frame.py\u001b[0m in \u001b[0;36m__getitem__\u001b[0;34m(self, key)\u001b[0m\n\u001b[1;32m   2925\u001b[0m             \u001b[0;32mif\u001b[0m \u001b[0mself\u001b[0m\u001b[0;34m.\u001b[0m\u001b[0mcolumns\u001b[0m\u001b[0;34m.\u001b[0m\u001b[0mnlevels\u001b[0m \u001b[0;34m>\u001b[0m \u001b[0;36m1\u001b[0m\u001b[0;34m:\u001b[0m\u001b[0;34m\u001b[0m\u001b[0;34m\u001b[0m\u001b[0m\n\u001b[1;32m   2926\u001b[0m                 \u001b[0;32mreturn\u001b[0m \u001b[0mself\u001b[0m\u001b[0;34m.\u001b[0m\u001b[0m_getitem_multilevel\u001b[0m\u001b[0;34m(\u001b[0m\u001b[0mkey\u001b[0m\u001b[0;34m)\u001b[0m\u001b[0;34m\u001b[0m\u001b[0;34m\u001b[0m\u001b[0m\n\u001b[0;32m-> 2927\u001b[0;31m             \u001b[0mindexer\u001b[0m \u001b[0;34m=\u001b[0m \u001b[0mself\u001b[0m\u001b[0;34m.\u001b[0m\u001b[0mcolumns\u001b[0m\u001b[0;34m.\u001b[0m\u001b[0mget_loc\u001b[0m\u001b[0;34m(\u001b[0m\u001b[0mkey\u001b[0m\u001b[0;34m)\u001b[0m\u001b[0;34m\u001b[0m\u001b[0;34m\u001b[0m\u001b[0m\n\u001b[0m\u001b[1;32m   2928\u001b[0m             \u001b[0;32mif\u001b[0m \u001b[0mis_integer\u001b[0m\u001b[0;34m(\u001b[0m\u001b[0mindexer\u001b[0m\u001b[0;34m)\u001b[0m\u001b[0;34m:\u001b[0m\u001b[0;34m\u001b[0m\u001b[0;34m\u001b[0m\u001b[0m\n\u001b[1;32m   2929\u001b[0m                 \u001b[0mindexer\u001b[0m \u001b[0;34m=\u001b[0m \u001b[0;34m[\u001b[0m\u001b[0mindexer\u001b[0m\u001b[0;34m]\u001b[0m\u001b[0;34m\u001b[0m\u001b[0;34m\u001b[0m\u001b[0m\n",
      "\u001b[0;32m~/anaconda3/lib/python3.7/site-packages/pandas/core/indexes/base.py\u001b[0m in \u001b[0;36mget_loc\u001b[0;34m(self, key, method, tolerance)\u001b[0m\n\u001b[1;32m   2657\u001b[0m                 \u001b[0;32mreturn\u001b[0m \u001b[0mself\u001b[0m\u001b[0;34m.\u001b[0m\u001b[0m_engine\u001b[0m\u001b[0;34m.\u001b[0m\u001b[0mget_loc\u001b[0m\u001b[0;34m(\u001b[0m\u001b[0mkey\u001b[0m\u001b[0;34m)\u001b[0m\u001b[0;34m\u001b[0m\u001b[0;34m\u001b[0m\u001b[0m\n\u001b[1;32m   2658\u001b[0m             \u001b[0;32mexcept\u001b[0m \u001b[0mKeyError\u001b[0m\u001b[0;34m:\u001b[0m\u001b[0;34m\u001b[0m\u001b[0;34m\u001b[0m\u001b[0m\n\u001b[0;32m-> 2659\u001b[0;31m                 \u001b[0;32mreturn\u001b[0m \u001b[0mself\u001b[0m\u001b[0;34m.\u001b[0m\u001b[0m_engine\u001b[0m\u001b[0;34m.\u001b[0m\u001b[0mget_loc\u001b[0m\u001b[0;34m(\u001b[0m\u001b[0mself\u001b[0m\u001b[0;34m.\u001b[0m\u001b[0m_maybe_cast_indexer\u001b[0m\u001b[0;34m(\u001b[0m\u001b[0mkey\u001b[0m\u001b[0;34m)\u001b[0m\u001b[0;34m)\u001b[0m\u001b[0;34m\u001b[0m\u001b[0;34m\u001b[0m\u001b[0m\n\u001b[0m\u001b[1;32m   2660\u001b[0m         \u001b[0mindexer\u001b[0m \u001b[0;34m=\u001b[0m \u001b[0mself\u001b[0m\u001b[0;34m.\u001b[0m\u001b[0mget_indexer\u001b[0m\u001b[0;34m(\u001b[0m\u001b[0;34m[\u001b[0m\u001b[0mkey\u001b[0m\u001b[0;34m]\u001b[0m\u001b[0;34m,\u001b[0m \u001b[0mmethod\u001b[0m\u001b[0;34m=\u001b[0m\u001b[0mmethod\u001b[0m\u001b[0;34m,\u001b[0m \u001b[0mtolerance\u001b[0m\u001b[0;34m=\u001b[0m\u001b[0mtolerance\u001b[0m\u001b[0;34m)\u001b[0m\u001b[0;34m\u001b[0m\u001b[0;34m\u001b[0m\u001b[0m\n\u001b[1;32m   2661\u001b[0m         \u001b[0;32mif\u001b[0m \u001b[0mindexer\u001b[0m\u001b[0;34m.\u001b[0m\u001b[0mndim\u001b[0m \u001b[0;34m>\u001b[0m \u001b[0;36m1\u001b[0m \u001b[0;32mor\u001b[0m \u001b[0mindexer\u001b[0m\u001b[0;34m.\u001b[0m\u001b[0msize\u001b[0m \u001b[0;34m>\u001b[0m \u001b[0;36m1\u001b[0m\u001b[0;34m:\u001b[0m\u001b[0;34m\u001b[0m\u001b[0;34m\u001b[0m\u001b[0m\n",
      "\u001b[0;32mpandas/_libs/index.pyx\u001b[0m in \u001b[0;36mpandas._libs.index.IndexEngine.get_loc\u001b[0;34m()\u001b[0m\n",
      "\u001b[0;32mpandas/_libs/index.pyx\u001b[0m in \u001b[0;36mpandas._libs.index.IndexEngine.get_loc\u001b[0;34m()\u001b[0m\n",
      "\u001b[0;32mpandas/_libs/hashtable_class_helper.pxi\u001b[0m in \u001b[0;36mpandas._libs.hashtable.PyObjectHashTable.get_item\u001b[0;34m()\u001b[0m\n",
      "\u001b[0;32mpandas/_libs/hashtable_class_helper.pxi\u001b[0m in \u001b[0;36mpandas._libs.hashtable.PyObjectHashTable.get_item\u001b[0;34m()\u001b[0m\n",
      "\u001b[0;31mKeyError\u001b[0m: 'user2X'"
     ]
    }
   ],
   "source": [
    "user1X = bottomLeft_df['user1X']\n",
    "user1Y = bottomLeft_df['user1Y']\n",
    "\n",
    "user2X = bottomLeft_df['user2X']\n",
    "user2Y = bottomLeft_df['user2Y']\n",
    "\n",
    "user3X = bottomLeft_df['user3X']\n",
    "user3Y = bottomLeft_df['user3Y']"
   ]
  },
  {
   "cell_type": "code",
   "execution_count": 12,
   "metadata": {},
   "outputs": [
    {
     "data": {
      "image/png": "[encoded data removed]",
      "text/plain": [
       "<Figure size 432x288 with 1 Axes>"
      ]
     },
     "metadata": {
      "needs_background": "light"
     },
     "output_type": "display_data"
    }
   ],
   "source": [
    "plt.title(\"Movement Path: Upper Right Movement\")\n",
    "plt.xlabel(\"X Coordinates\")\n",
    "plt.ylabel(\"Y Coordinates\")\n",
    "plt.scatter(user1X, user1Y, label='User 1')\n",
    "# plt.scatter(user2X, user2Y, label='User 2')\n",
    "# plt.scatter(user3X, user3Y, label='User 3')\n",
    "plt.legend()\n",
    "plt.show()"
   ]
  },
  {
   "cell_type": "code",
   "execution_count": 10,
   "metadata": {},
   "outputs": [],
   "source": [
    "bottomRight_df = pd.read_csv('bottomRightData.csv')\n",
    "\n",
    "user1X = bottomRight_df['user1X']\n",
    "user1Y = bottomRight_df['user1Y']\n",
    "\n",
    "# user2X = bottomRight_df['user2X']\n",
    "# user2Y = bottomRight_df['user2Y']\n",
    "\n",
    "# user3X = bottomRight_df['user3X']\n",
    "# user3Y = bottomRight_df['user3Y']"
   ]
  },
  {
   "cell_type": "code",
   "execution_count": 11,
   "metadata": {},
   "outputs": [
    {
     "data": {
      "image/png": "[encoded data removed]",
      "text/plain": [
       "<Figure size 432x288 with 1 Axes>"
      ]
     },
     "metadata": {
      "needs_background": "light"
     },
     "output_type": "display_data"
    }
   ],
   "source": [
    "plt.title(\"Movement Path: Upper Left Movement\")\n",
    "plt.xlabel(\"X Coordinates\")\n",
    "plt.ylabel(\"Y Coordinates\")\n",
    "plt.scatter(user1X, user1Y, label='User 1')\n",
    "# plt.scatter(user2X, user2Y, label='User 2')\n",
    "# plt.scatter(user3X, user3Y, label='User 3')\n",
    "plt.legend()\n",
    "plt.show()"
   ]
  },
  {
   "cell_type": "code",
   "execution_count": 9,
   "metadata": {},
   "outputs": [],
   "source": [
    "middleBottom_df = pd.read_csv('middleBottom.csv')\n",
    "\n",
    "user1X = middleBottom_df['user1X']\n",
    "user1Y = middleBottom_df['user1Y']\n",
    "\n",
    "# user2X = middleBottom_df['user2X']\n",
    "# user2Y = middleBottom_df['user2Y']\n",
    "\n",
    "# user3X = middleBottom_df['user3X']\n",
    "# user3Y = middleBottom_df['user3Y']"
   ]
  },
  {
   "cell_type": "code",
   "execution_count": 10,
   "metadata": {},
   "outputs": [
    {
     "data": {
      "image/png": "[encoded data removed]",
      "text/plain": [
       "<Figure size 432x288 with 1 Axes>"
      ]
     },
     "metadata": {
      "needs_background": "light"
     },
     "output_type": "display_data"
    }
   ],
   "source": [
    "plt.title(\"Movement Path: Straight Upper Movement\")\n",
    "plt.xlabel(\"X Coordinates\")\n",
    "plt.ylabel(\"Y Coordinates\")\n",
    "plt.scatter(user1X, user1Y, label='User 1')\n",
    "# plt.scatter(user2X, user2Y, label='User 2')\n",
    "# plt.scatter(user3X, user3Y, label='User 3')\n",
    "plt.legend()\n",
    "plt.show()"
   ]
  },
  {
   "cell_type": "code",
   "execution_count": 11,
   "metadata": {},
   "outputs": [],
   "source": [
    "middleBottom_df = pd.read_csv('upperLeftData.csv')\n",
    "\n",
    "user1XMB = middleBottom_df['user1X']\n",
    "user1YMB = middleBottom_df['user1Y']\n",
    "\n",
    "user2XMB = middleBottom_df['user2X']\n",
    "user2YMB = middleBottom_df['user2Y']\n",
    "\n",
    "user3XMB = middleBottom_df['user3X']\n",
    "user3YMB = middleBottom_df['user3Y']"
   ]
  },
  {
   "cell_type": "code",
   "execution_count": 12,
   "metadata": {},
   "outputs": [
    {
     "data": {
      "image/png": "[encoded data removed]",
      "text/plain": [
       "<Figure size 432x288 with 1 Axes>"
      ]
     },
     "metadata": {
      "needs_background": "light"
     },
     "output_type": "display_data"
    }
   ],
   "source": [
    "plt.title(\"Movement Path: Downward Right Movement\")\n",
    "plt.xlabel(\"X Coordinates\")\n",
    "plt.ylabel(\"Y Coordinates\")\n",
    "plt.scatter(user1XMB, user1YMB, label='User 1')\n",
    "plt.scatter(user2XMB, user2YMB, label='User 2', c='darkorange')\n",
    "plt.scatter(user3XMB, user3YMB, label='User 3', c='green')\n",
    "plt.legend()\n",
    "plt.show()"
   ]
  },
  {
   "cell_type": "code",
   "execution_count": 19,
   "metadata": {},
   "outputs": [],
   "source": [
    "middleTop_df = pd.read_csv('middleTopData.csv')\n",
    "\n",
    "user1XMT = middleTop_df['user1X']\n",
    "user1YMT = middleTop_df['user1Y']\n",
    "\n",
    "user2XMT = middleTop_df['user2X']\n",
    "user2YMT = middleTop_df['user2Y']\n",
    "\n",
    "user3XMT = middleTop_df['user3X']\n",
    "user3YMT = middleTop_df['user3Y']"
   ]
  },
  {
   "cell_type": "code",
   "execution_count": 20,
   "metadata": {},
   "outputs": [
    {
     "data": {
      "image/png": "[encoded data removed]",
      "text/plain": [
       "<Figure size 432x288 with 1 Axes>"
      ]
     },
     "metadata": {
      "needs_background": "light"
     },
     "output_type": "display_data"
    }
   ],
   "source": [
    "plt.title(\"Movement Path: Straight Downward Movement\")\n",
    "plt.xlabel(\"X Coordinates\")\n",
    "plt.ylabel(\"Y Coordinates\")\n",
    "plt.scatter(user1XMT, user1YMT, label='User 1')\n",
    "#plt.scatter(user2XMT, user2YMT, label='User 2')\n",
    "#plt.scatter(user3XMT, user3YMT, label='User 3')\n",
    "plt.legend()\n",
    "plt.show()"
   ]
  },
  {
   "cell_type": "code",
   "execution_count": 29,
   "metadata": {},
   "outputs": [],
   "source": [
    "middleRight_df = pd.read_csv('middleRightData.csv')\n",
    "\n",
    "user1XMR = middleRight_df['user1X']\n",
    "user1YMR = middleRight_df['user1Y']\n",
    "\n",
    "user2XMR = middleRight_df['user2X']\n",
    "user2YMR = middleRight_df['user2Y']\n",
    "\n",
    "user3XMR = middleRight_df['user3X']\n",
    "user3YMR = middleRight_df['user3Y']"
   ]
  },
  {
   "cell_type": "code",
   "execution_count": 32,
   "metadata": {},
   "outputs": [
    {
     "data": {
      "image/png": "[encoded data removed]",
      "text/plain": [
       "<Figure size 432x288 with 1 Axes>"
      ]
     },
     "metadata": {
      "needs_background": "light"
     },
     "output_type": "display_data"
    }
   ],
   "source": [
    "plt.title(\"Movement Path: Straight Leftward Movement\")\n",
    "plt.xlabel(\"X Coordinates\")\n",
    "plt.ylabel(\"Y Coordinates\")\n",
    "#plt.scatter(user1XMR, user1YMR, label='User 1')\n",
    "#plt.scatter(user2XMR, user2YMR, label='User 2', c='darkorange')\n",
    "plt.scatter(user3XMR, user3YMR, label='User 3', c='green')\n",
    "plt.legend()\n",
    "plt.show()"
   ]
  },
  {
   "cell_type": "code",
   "execution_count": null,
   "metadata": {},
   "outputs": [],
   "source": []
  }
 ],
 "metadata": {
  "kernelspec": {
   "display_name": "Python 3",
   "language": "python",
   "name": "python3"
  },
  "language_info": {
   "codemirror_mode": {
    "name": "ipython",
    "version": 3
   },
   "file_extension": ".py",
   "mimetype": "text/x-python",
   "name": "python",
   "nbconvert_exporter": "python",
   "pygments_lexer": "ipython3",
   "version": "3.7.5"
  }
 },
 "nbformat": 4,
 "nbformat_minor": 2
}
